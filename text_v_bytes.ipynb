{
 "cells": [
  {
   "cell_type": "markdown",
   "metadata": {},
   "source": [
    "# Texto e Bytes em Elixir"
   ]
  },
  {
   "cell_type": "markdown",
   "metadata": {},
   "source": [
    "Este notebook foi criado nesta versão de Elixir:"
   ]
  },
  {
   "cell_type": "code",
   "execution_count": 1,
   "metadata": {},
   "outputs": [
    {
     "data": {
      "text/plain": [
       "\"1.8.1\""
      ]
     },
     "execution_count": 1,
     "metadata": {},
     "output_type": "execute_result"
    }
   ],
   "source": [
    "System.version"
   ]
  },
  {
   "cell_type": "markdown",
   "metadata": {},
   "source": [
    "Em Elixir, os delimitarores `\"` e `'` indicam sequências de tipos distintos:"
   ]
  },
  {
   "cell_type": "code",
   "execution_count": 2,
   "metadata": {
    "scrolled": true
   },
   "outputs": [
    {
     "data": {
      "text/plain": [
       "false"
      ]
     },
     "execution_count": 2,
     "metadata": {},
     "output_type": "execute_result"
    }
   ],
   "source": [
    "\"ABC\" == 'ABC'"
   ]
  },
  {
   "cell_type": "markdown",
   "metadata": {},
   "source": [
    "## Binary\n",
    "\n",
    "Uma sequência entre aspas duplas é uma `binary`, armazenada como uma sequência de bytes."
   ]
  },
  {
   "cell_type": "code",
   "execution_count": 3,
   "metadata": {},
   "outputs": [
    {
     "data": {
      "text/plain": [
       "\"ABC\""
      ]
     },
     "execution_count": 3,
     "metadata": {},
     "output_type": "execute_result"
    }
   ],
   "source": [
    "b = \"ABC\""
   ]
  },
  {
   "cell_type": "code",
   "execution_count": 4,
   "metadata": {},
   "outputs": [
    {
     "data": {
      "text/plain": [
       "true"
      ]
     },
     "execution_count": 4,
     "metadata": {},
     "output_type": "execute_result"
    }
   ],
   "source": [
    "is_binary(b)"
   ]
  },
  {
   "cell_type": "markdown",
   "metadata": {},
   "source": [
    "Outra forma de representar uma `binary` no código-fonte é como uma sequência de inteiros delimitada por `<<` e `>>`:"
   ]
  },
  {
   "cell_type": "code",
   "execution_count": 5,
   "metadata": {},
   "outputs": [
    {
     "data": {
      "text/plain": [
       "\"ABC\""
      ]
     },
     "execution_count": 5,
     "metadata": {},
     "output_type": "execute_result"
    }
   ],
   "source": [
    "b2 = <<65, 66, 67>>"
   ]
  },
  {
   "cell_type": "code",
   "execution_count": 6,
   "metadata": {},
   "outputs": [
    {
     "data": {
      "text/plain": [
       "true"
      ]
     },
     "execution_count": 6,
     "metadata": {},
     "output_type": "execute_result"
    }
   ],
   "source": [
    "b === b2"
   ]
  },
  {
   "cell_type": "markdown",
   "metadata": {},
   "source": [
    "Porém o exemplo acima só funciona porque \"ABC\" é 100% ASCII. Quando há caracteres não-ASCII, as coisas são mais complicadas."
   ]
  },
  {
   "cell_type": "code",
   "execution_count": 7,
   "metadata": {},
   "outputs": [
    {
     "data": {
      "text/plain": [
       "\"café\""
      ]
     },
     "execution_count": 7,
     "metadata": {},
     "output_type": "execute_result"
    }
   ],
   "source": [
    "b3 = \"café\""
   ]
  },
  {
   "cell_type": "markdown",
   "metadata": {},
   "source": [
    "Vamos obter os códigos dos caracteres em `b3` para tentar construir um binário igual a `\"café\"`:"
   ]
  },
  {
   "cell_type": "code",
   "execution_count": 8,
   "metadata": {
    "scrolled": true
   },
   "outputs": [
    {
     "data": {
      "text/plain": [
       "[99, 97, 102, 233]"
      ]
     },
     "execution_count": 8,
     "metadata": {},
     "output_type": "execute_result"
    }
   ],
   "source": [
    "to_charlist(b3)"
   ]
  },
  {
   "cell_type": "code",
   "execution_count": 9,
   "metadata": {},
   "outputs": [
    {
     "data": {
      "text/plain": [
       "<<99, 97, 102, 233>>"
      ]
     },
     "execution_count": 9,
     "metadata": {},
     "output_type": "execute_result"
    }
   ],
   "source": [
    "b4 = <<99, 97, 102, 233>>"
   ]
  },
  {
   "cell_type": "markdown",
   "metadata": {},
   "source": [
    "Quando fizemos `b2 = <<65, 66, 67>>`, o valor apareceu como `\"ABC\"`, mas dessa vez o valor de `b4` não apareceu como uma string delimitada por aspas duplas. E mais:"
   ]
  },
  {
   "cell_type": "code",
   "execution_count": 10,
   "metadata": {},
   "outputs": [
    {
     "data": {
      "text/plain": [
       "false"
      ]
     },
     "execution_count": 10,
     "metadata": {},
     "output_type": "execute_result"
    }
   ],
   "source": [
    "b3 === b4"
   ]
  },
  {
   "cell_type": "markdown",
   "metadata": {},
   "source": [
    "O motivo é que `b4` é um binário, mas Elixir sabe que não representa texto codificado em UTF-8. Elixir só exibe binários como texto entre aspas duplas se o valor é um texto em UTF-8. O que aconteceu: 233 é o código Unicode do caractere \"é\", porém na codificação UTF-8 qualquer caractere não-ASCII é representado em dois ou mais bytes. Veja:"
   ]
  },
  {
   "cell_type": "code",
   "execution_count": 11,
   "metadata": {},
   "outputs": [
    {
     "data": {
      "text/plain": [
       "[195, 169]"
      ]
     },
     "execution_count": 11,
     "metadata": {},
     "output_type": "execute_result"
    }
   ],
   "source": [
    ":binary.bin_to_list(\"é\")"
   ]
  },
  {
   "cell_type": "markdown",
   "metadata": {},
   "source": [
    "Assim podemos obter os valores dos bytes correspondentes a todos os caracteres do binário `b3 = \"café\"`"
   ]
  },
  {
   "cell_type": "code",
   "execution_count": 12,
   "metadata": {},
   "outputs": [
    {
     "data": {
      "text/plain": [
       "[99, 97, 102, 195, 169]"
      ]
     },
     "execution_count": 12,
     "metadata": {},
     "output_type": "execute_result"
    }
   ],
   "source": [
    ":binary.bin_to_list(b3)"
   ]
  },
  {
   "cell_type": "markdown",
   "metadata": {},
   "source": [
    "Agora podemos confirmar nosso endimento de strings como binários em UTF-8, reconstruindo a `\"café\"` usando a notação de binários com os valores da codigificação UTF-8:"
   ]
  },
  {
   "cell_type": "code",
   "execution_count": 13,
   "metadata": {},
   "outputs": [
    {
     "data": {
      "text/plain": [
       "\"café\""
      ]
     },
     "execution_count": 13,
     "metadata": {},
     "output_type": "execute_result"
    }
   ],
   "source": [
    "b5 = <<99, 97, 102, 195, 169>>"
   ]
  },
  {
   "cell_type": "code",
   "execution_count": 14,
   "metadata": {},
   "outputs": [
    {
     "data": {
      "text/plain": [
       "true"
      ]
     },
     "execution_count": 14,
     "metadata": {},
     "output_type": "execute_result"
    }
   ],
   "source": [
    "b3 === b5"
   ]
  },
  {
   "cell_type": "code",
   "execution_count": 15,
   "metadata": {},
   "outputs": [
    {
     "data": {
      "text/plain": [
       "\"café\""
      ]
     },
     "execution_count": 15,
     "metadata": {},
     "output_type": "execute_result"
    }
   ],
   "source": [
    "<<99, 97, 102, 233 :: utf8>>"
   ]
  },
  {
   "cell_type": "code",
   "execution_count": 16,
   "metadata": {},
   "outputs": [
    {
     "name": "stdout",
     "output_type": "stream",
     "text": [
      "0\t<<0>>\n",
      "1\t<<1>>\n",
      "2\t<<2>>\n",
      "3\t<<3>>\n",
      "4\t<<4>>\n",
      "5\t<<5>>\n",
      "6\t<<6>>\n",
      "7\t\"\\a\"\n",
      "8\t\"\\b\"\n",
      "9\t\"\\t\"\n",
      "10\t\"\\n\"\n",
      "11\t\"\\v\"\n",
      "12\t\"\\f\"\n",
      "13\t\"\\r\"\n",
      "14\t<<14>>\n",
      "15\t<<15>>\n",
      "16\t<<16>>\n",
      "17\t<<17>>\n",
      "18\t<<18>>\n",
      "19\t<<19>>\n",
      "20\t<<20>>\n",
      "21\t<<21>>\n",
      "22\t<<22>>\n",
      "23\t<<23>>\n",
      "24\t<<24>>\n",
      "25\t<<25>>\n",
      "26\t<<26>>\n",
      "27\t\"\\e\"\n",
      "28\t<<28>>\n",
      "29\t<<29>>\n",
      "30\t<<30>>\n",
      "31\t<<31>>\n",
      "32\t\" \"\n",
      "33\t\"!\"\n",
      "34\t\"\\\"\"\n",
      "35\t\"#\"\n",
      "36\t\"$\"\n",
      "37\t\"%\"\n",
      "38\t\"&\"\n",
      "39\t\"'\"\n",
      "40\t\"(\"\n",
      "41\t\")\"\n",
      "42\t\"*\"\n",
      "43\t\"+\"\n",
      "44\t\",\"\n",
      "45\t\"-\"\n",
      "46\t\".\"\n",
      "47\t\"/\"\n",
      "48\t\"0\"\n",
      "49\t\"1\"\n",
      "50\t\"2\"\n",
      "51\t\"3\"\n",
      "52\t\"4\"\n",
      "53\t\"5\"\n",
      "54\t\"6\"\n",
      "55\t\"7\"\n",
      "56\t\"8\"\n",
      "57\t\"9\"\n",
      "58\t\":\"\n",
      "59\t\";\"\n",
      "60\t\"<\"\n",
      "61\t\"=\"\n",
      "62\t\">\"\n",
      "63\t\"?\"\n",
      "64\t\"@\"\n",
      "65\t\"A\"\n",
      "66\t\"B\"\n",
      "67\t\"C\"\n",
      "68\t\"D\"\n",
      "69\t\"E\"\n",
      "70\t\"F\"\n",
      "71\t\"G\"\n",
      "72\t\"H\"\n",
      "73\t\"I\"\n",
      "74\t\"J\"\n",
      "75\t\"K\"\n",
      "76\t\"L\"\n",
      "77\t\"M\"\n",
      "78\t\"N\"\n",
      "79\t\"O\"\n",
      "80\t\"P\"\n",
      "81\t\"Q\"\n",
      "82\t\"R\"\n",
      "83\t\"S\"\n",
      "84\t\"T\"\n",
      "85\t\"U\"\n",
      "86\t\"V\"\n",
      "87\t\"W\"\n",
      "88\t\"X\"\n",
      "89\t\"Y\"\n",
      "90\t\"Z\"\n",
      "91\t\"[\"\n",
      "92\t\"\\\\\"\n",
      "93\t\"]\"\n",
      "94\t\"^\"\n",
      "95\t\"_\"\n",
      "96\t\"`\"\n",
      "97\t\"a\"\n",
      "98\t\"b\"\n",
      "99\t\"c\"\n",
      "100\t\"d\"\n",
      "101\t\"e\"\n",
      "102\t\"f\"\n",
      "103\t\"g\"\n",
      "104\t\"h\"\n",
      "105\t\"i\"\n",
      "106\t\"j\"\n",
      "107\t\"k\"\n",
      "108\t\"l\"\n",
      "109\t\"m\"\n",
      "110\t\"n\"\n",
      "111\t\"o\"\n",
      "112\t\"p\"\n",
      "113\t\"q\"\n",
      "114\t\"r\"\n",
      "115\t\"s\"\n",
      "116\t\"t\"\n",
      "117\t\"u\"\n",
      "118\t\"v\"\n",
      "119\t\"w\"\n",
      "120\t\"x\"\n",
      "121\t\"y\"\n",
      "122\t\"z\"\n",
      "123\t\"{\"\n",
      "124\t\"|\"\n",
      "125\t\"}\"\n",
      "126\t\"~\"\n",
      "127\t\"\\d\"\n",
      "128\t<<128>>\n",
      "129\t<<129>>\n",
      "130\t<<130>>\n",
      "131\t<<131>>\n",
      "132\t<<132>>\n",
      "133\t<<133>>\n",
      "134\t<<134>>\n",
      "135\t<<135>>\n",
      "136\t<<136>>\n",
      "137\t<<137>>\n",
      "138\t<<138>>\n",
      "139\t<<139>>\n",
      "140\t<<140>>\n",
      "141\t<<141>>\n",
      "142\t<<142>>\n",
      "143\t<<143>>\n",
      "144\t<<144>>\n",
      "145\t<<145>>\n",
      "146\t<<146>>\n",
      "147\t<<147>>\n",
      "148\t<<148>>\n",
      "149\t<<149>>\n",
      "150\t<<150>>\n",
      "151\t<<151>>\n",
      "152\t<<152>>\n",
      "153\t<<153>>\n",
      "154\t<<154>>\n",
      "155\t<<155>>\n",
      "156\t<<156>>\n",
      "157\t<<157>>\n",
      "158\t<<158>>\n",
      "159\t<<159>>\n",
      "160\t<<160>>\n",
      "161\t<<161>>\n",
      "162\t<<162>>\n",
      "163\t<<163>>\n",
      "164\t<<164>>\n",
      "165\t<<165>>\n",
      "166\t<<166>>\n",
      "167\t<<167>>\n",
      "168\t<<168>>\n",
      "169\t<<169>>\n",
      "170\t<<170>>\n",
      "171\t<<171>>\n",
      "172\t<<172>>\n",
      "173\t<<173>>\n",
      "174\t<<174>>\n",
      "175\t<<175>>\n",
      "176\t<<176>>\n",
      "177\t<<177>>\n",
      "178\t<<178>>\n",
      "179\t<<179>>\n",
      "180\t<<180>>\n",
      "181\t<<181>>\n",
      "182\t<<182>>\n",
      "183\t<<183>>\n",
      "184\t<<184>>\n",
      "185\t<<185>>\n",
      "186\t<<186>>\n",
      "187\t<<187>>\n",
      "188\t<<188>>\n",
      "189\t<<189>>\n",
      "190\t<<190>>\n",
      "191\t<<191>>\n",
      "192\t<<192>>\n",
      "193\t<<193>>\n",
      "194\t<<194>>\n",
      "195\t<<195>>\n",
      "196\t<<196>>\n",
      "197\t<<197>>\n",
      "198\t<<198>>\n",
      "199\t<<199>>\n",
      "200\t<<200>>\n",
      "201\t<<201>>\n",
      "202\t<<202>>\n",
      "203\t<<203>>\n",
      "204\t<<204>>\n",
      "205\t<<205>>\n",
      "206\t<<206>>\n",
      "207\t<<207>>\n",
      "208\t<<208>>\n",
      "209\t<<209>>\n",
      "210\t<<210>>\n",
      "211\t<<211>>\n",
      "212\t<<212>>\n",
      "213\t<<213>>\n",
      "214\t<<214>>\n",
      "215\t<<215>>\n",
      "216\t<<216>>\n",
      "217\t<<217>>\n",
      "218\t<<218>>\n",
      "219\t<<219>>\n",
      "220\t<<220>>\n",
      "221\t<<221>>\n",
      "222\t<<222>>\n",
      "223\t<<223>>\n",
      "224\t<<224>>\n",
      "225\t<<225>>\n",
      "226\t<<226>>\n",
      "227\t<<227>>\n",
      "228\t<<228>>\n",
      "229\t<<229>>\n",
      "230\t<<230>>\n",
      "231\t<<231>>\n",
      "232\t<<232>>\n",
      "233\t<<233>>\n",
      "234\t<<234>>\n",
      "235\t<<235>>\n",
      "236\t<<236>>\n",
      "237\t<<237>>\n",
      "238\t<<238>>\n",
      "239\t<<239>>\n",
      "240\t<<240>>\n",
      "241\t<<241>>\n",
      "242\t<<242>>\n",
      "243\t<<243>>\n",
      "244\t<<244>>\n",
      "245\t<<245>>\n",
      "246\t<<246>>\n",
      "247\t<<247>>\n",
      "248\t<<248>>\n",
      "249\t<<249>>\n",
      "250\t<<250>>\n",
      "251\t<<251>>\n",
      "252\t<<252>>\n",
      "253\t<<253>>\n",
      "254\t<<254>>\n",
      "255\t<<255>>\n"
     ]
    },
    {
     "data": {
      "text/plain": [
       ":ok"
      ]
     },
     "execution_count": 16,
     "metadata": {},
     "output_type": "execute_result"
    }
   ],
   "source": [
    "Enum.each(0..255, &(IO.puts(Integer.to_string(&1) <> \"\\t\" <> inspect(<<&1>>))))"
   ]
  }
 ],
 "metadata": {
  "kernelspec": {
   "display_name": "Elixir",
   "language": "Elixir",
   "name": "ielixir"
  },
  "language_info": {
   "codemirror_mode": "elixir",
   "file_extension": "ex",
   "mimetype": "text/x-elixir",
   "name": "elixir",
   "nbconvert_exporter": "",
   "pygments_lexer": "elixir",
   "version": "1.8.1"
  }
 },
 "nbformat": 4,
 "nbformat_minor": 2
}
