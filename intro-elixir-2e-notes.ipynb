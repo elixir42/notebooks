{
 "cells": [
  {
   "cell_type": "markdown",
   "metadata": {},
   "source": [
    "# Introducing Elixir (2nd. ed)"
   ]
  },
  {
   "cell_type": "markdown",
   "metadata": {},
   "source": [
    "## Tools\n",
    "\n",
    "* Jupyter Notebook with the [IElixir](https://github.com/pprzetacznik/IElixir) kernel.\n",
    "* VSCode with [ElixirLS](https://marketplace.visualstudio.com/items?itemName=JakeBecker.elixir-ls) extension."
   ]
  },
  {
   "cell_type": "code",
   "execution_count": 1,
   "metadata": {},
   "outputs": [
    {
     "data": {
      "text/plain": [
       "\"1.8.1\""
      ]
     },
     "execution_count": 1,
     "metadata": {},
     "output_type": "execute_result"
    }
   ],
   "source": [
    "System.version"
   ]
  },
  {
   "cell_type": "markdown",
   "metadata": {},
   "source": [
    "## Chapter 1:  Getting Comfortable\n",
    "\n",
    "After installation instructions, section **Firing It Up** starts with `mix new first_app`.\n",
    "\n",
    "I also tried `mix new lab_zero`. The `mix new` command creates a tree of directories and files, like this:\n",
    "\n",
    "```bash\n",
    "$ tree lab_zero/\n",
    "lab_zero/\n",
    "├── config\n",
    "│   └── config.exs\n",
    "├── lib\n",
    "│   └── lab_zero.ex\n",
    "├── mix.exs\n",
    "├── README.md\n",
    "└── test\n",
    "    ├── lab_zero_test.exs\n",
    "    └── test_helper.exs\n",
    "\n",
    "3 directories, 6 files\n",
    "```"
   ]
  },
  {
   "cell_type": "markdown",
   "metadata": {},
   "source": [
    "Since I got test files for free, I tried running tests, and it worked as expected:\n",
    "\n",
    "```bash\n",
    "$ cd lab_zero/\n",
    "$ mix test\n",
    "..\n",
    "\n",
    "Finished in 0.03 seconds\n",
    "1 doctest, 1 test, 0 failures\n",
    "\n",
    "Randomized with seed 72959\n",
    "```"
   ]
  },
  {
   "cell_type": "markdown",
   "metadata": {},
   "source": [
    "I read somewhere I could get more detailed test output with the `--trace` option:\n",
    "\n",
    "```bash\n",
    "$ mix test --trace\n",
    "\n",
    "LabZeroTest\n",
    "  * doctest LabZero.hello/0 (1) (0.00ms)\n",
    "  * test greets the world (0.00ms)\n",
    "\n",
    "\n",
    "Finished in 0.03 seconds\n",
    "1 doctest, 1 test, 0 failures\n",
    "\n",
    "Randomized with seed 497920\n",
    "```\n"
   ]
  },
  {
   "cell_type": "markdown",
   "metadata": {},
   "source": [
    "Clearly the source of the doctest is in the `LabZero.hello` function definition in `lab_zero/lib/lab_zero.ex`:\n",
    "\n",
    "```elixir\n",
    "defmodule LabZero do\n",
    "  @moduledoc \"\"\"\n",
    "  Documentation for LabZero.\n",
    "  \"\"\"\n",
    "\n",
    "  @doc \"\"\"\n",
    "  Hello world.\n",
    "\n",
    "  ## Examples\n",
    "\n",
    "      iex> LabZero.hello\n",
    "      :world\n",
    "\n",
    "  \"\"\"\n",
    "  def hello do\n",
    "    :world\n",
    "  end\n",
    "end\n",
    "```"
   ]
  },
  {
   "cell_type": "markdown",
   "metadata": {},
   "source": [
    "And the source for the test titled `\"test greets the world\"` is the `lab_zero/test/lab_zero_test.exs` file:\n",
    "\n",
    "```elixir\n",
    "defmodule LabZeroTest do\n",
    "  use ExUnit.Case\n",
    "  doctest LabZero\n",
    "\n",
    "  test \"greets the world\" do\n",
    "    assert LabZero.hello() == :world\n",
    "  end\n",
    "end\n",
    "\n",
    "```\n",
    "\n",
    "These were some experiments I did inspired by the `first_app` example from section **Firing It Up**, where the code from `first_app` is never actually used, even though the `iex` shell is started with the `-S mix` option to load it.\n",
    "\n",
    "So I did something similar with my `lab_zero`:\n",
    "\n",
    "```bash\n",
    "$ iex -S mix\n",
    "Erlang/OTP 20 [erts-9.3.3.2] [source] [64-bit] [smp:4:4] [ds:4:4:10] [async-threads:10] [hipe] [kernel-poll:false]\n",
    "\n",
    "Compiling 1 file (.ex)\n",
    "Generated lab_zero app\n",
    "Interactive Elixir (1.6.6) - press Ctrl+C to exit (type h() ENTER for help)\n",
    "iex(1)> \n",
    "```\n",
    "\n",
    "\n",
    "\n",
    "\n",
    "\n"
   ]
  },
  {
   "cell_type": "markdown",
   "metadata": {},
   "source": [
    "Now that I started with `iex -S mix`, I can explore the `LabZero` app with the `h` (help) and `exports` commands (I don't know whether these are functions or macros). The call `exports LabZero` lists all the exported functions and macros of the `LabZero` module.  \n",
    "\n",
    "```elixir\n",
    "ex(1)> h LabZero\n",
    "\n",
    "                                    LabZero                                     \n",
    "\n",
    "Documentation for LabZero.\n",
    "\n",
    "iex(2)> exports LabZero\n",
    "hello/0     \n",
    "iex(3)> h LabZero.hello\n",
    "\n",
    "                                  def hello()                                   \n",
    "\n",
    "Hello world.\n",
    "\n",
    "## Examples\n",
    "\n",
    "    iex> LabZero.hello\n",
    "    :world\n",
    "```\n",
    "\n",
    "And finally we can call the function, which will have the same result as the example shown in the help text above:\n",
    "\n",
    "```elixir\n",
    "iex(4)> LabZero.hello\n",
    ":world\n",
    "```\n"
   ]
  },
  {
   "cell_type": "markdown",
   "metadata": {},
   "source": [
    "I am not following the book to the letter... I am doing my own experiments. Now let's move to chapter 2."
   ]
  },
  {
   "cell_type": "markdown",
   "metadata": {},
   "source": [
    "## Chapter 2. Functions and Modules"
   ]
  },
  {
   "cell_type": "markdown",
   "metadata": {},
   "source": [
    "Instead of the terminal velocity function from section **Fun with fn**, let's define a `f2c` function to convert temperatures from Fahrenheit to Celsius:"
   ]
  },
  {
   "cell_type": "code",
   "execution_count": 2,
   "metadata": {},
   "outputs": [
    {
     "data": {
      "text/plain": [
       "#Function<6.128620087/1 in :erl_eval.expr/5>"
      ]
     },
     "execution_count": 2,
     "metadata": {},
     "output_type": "execute_result"
    }
   ],
   "source": [
    "f2c = fn(f) -> (f - 32) * 5 / 9 end"
   ]
  },
  {
   "cell_type": "code",
   "execution_count": 3,
   "metadata": {},
   "outputs": [
    {
     "data": {
      "text/plain": [
       "100.0"
      ]
     },
     "execution_count": 3,
     "metadata": {},
     "output_type": "execute_result"
    }
   ],
   "source": [
    "f2c.(212)"
   ]
  },
  {
   "cell_type": "code",
   "execution_count": 4,
   "metadata": {},
   "outputs": [
    {
     "data": {
      "text/plain": [
       "0.0"
      ]
     },
     "execution_count": 4,
     "metadata": {},
     "output_type": "execute_result"
    }
   ],
   "source": [
    "f2c.(32)"
   ]
  },
  {
   "cell_type": "code",
   "execution_count": 5,
   "metadata": {},
   "outputs": [
    {
     "data": {
      "text/plain": [
       "-17.77777777777778"
      ]
     },
     "execution_count": 5,
     "metadata": {},
     "output_type": "execute_result"
    }
   ],
   "source": [
    "f2c.(0)"
   ]
  },
  {
   "cell_type": "code",
   "execution_count": 6,
   "metadata": {},
   "outputs": [
    {
     "data": {
      "text/plain": [
       "-27.22222222222222"
      ]
     },
     "execution_count": 6,
     "metadata": {},
     "output_type": "execute_result"
    }
   ],
   "source": [
    "f2c.(-17)"
   ]
  },
  {
   "cell_type": "code",
   "execution_count": 7,
   "metadata": {},
   "outputs": [
    {
     "data": {
      "text/plain": [
       "30.0"
      ]
     },
     "execution_count": 7,
     "metadata": {},
     "output_type": "execute_result"
    }
   ],
   "source": [
    "f2c.(86)"
   ]
  },
  {
   "cell_type": "code",
   "execution_count": 8,
   "metadata": {},
   "outputs": [
    {
     "data": {
      "text/plain": [
       "37.77777777777778"
      ]
     },
     "execution_count": 8,
     "metadata": {},
     "output_type": "execute_result"
    }
   ],
   "source": [
    "f2c.(100)"
   ]
  },
  {
   "cell_type": "code",
   "execution_count": 9,
   "metadata": {},
   "outputs": [
    {
     "data": {
      "text/plain": [
       "40.0"
      ]
     },
     "execution_count": 9,
     "metadata": {},
     "output_type": "execute_result"
    }
   ],
   "source": [
    "f2c.(104)"
   ]
  },
  {
   "cell_type": "code",
   "execution_count": 10,
   "metadata": {},
   "outputs": [
    {
     "data": {
      "text/plain": [
       "-40.0"
      ]
     },
     "execution_count": 10,
     "metadata": {},
     "output_type": "execute_result"
    }
   ],
   "source": [
    "f2c.(-40)"
   ]
  },
  {
   "cell_type": "code",
   "execution_count": 11,
   "metadata": {},
   "outputs": [
    {
     "data": {
      "text/plain": [
       "160.0"
      ]
     },
     "execution_count": 11,
     "metadata": {},
     "output_type": "execute_result"
    }
   ],
   "source": [
    "f2c.(320)"
   ]
  },
  {
   "cell_type": "markdown",
   "metadata": {},
   "source": [
    "It is also possible to use the `&` (capture) operator to create an anonymous function:"
   ]
  },
  {
   "cell_type": "code",
   "execution_count": 12,
   "metadata": {},
   "outputs": [
    {
     "data": {
      "text/plain": [
       "#Function<6.128620087/1 in :erl_eval.expr/5>"
      ]
     },
     "execution_count": 12,
     "metadata": {},
     "output_type": "execute_result"
    }
   ],
   "source": [
    "f2c = &((&1 - 32) * 5 / 9)"
   ]
  },
  {
   "cell_type": "code",
   "execution_count": 13,
   "metadata": {},
   "outputs": [
    {
     "data": {
      "text/plain": [
       "160.0"
      ]
     },
     "execution_count": 13,
     "metadata": {},
     "output_type": "execute_result"
    }
   ],
   "source": [
    "f2c.(320)"
   ]
  },
  {
   "cell_type": "code",
   "execution_count": 14,
   "metadata": {},
   "outputs": [
    {
     "data": {
      "text/plain": [
       "37.77777777777778"
      ]
     },
     "execution_count": 14,
     "metadata": {},
     "output_type": "execute_result"
    }
   ],
   "source": [
    "f2c.(100)"
   ]
  },
  {
   "cell_type": "markdown",
   "metadata": {},
   "source": [
    "Now let's create a function to format temperatures in Celsius, with one decimal place."
   ]
  },
  {
   "cell_type": "code",
   "execution_count": 15,
   "metadata": {},
   "outputs": [
    {
     "data": {
      "text/plain": [
       "#Function<6.128620087/1 in :erl_eval.expr/5>"
      ]
     },
     "execution_count": 15,
     "metadata": {},
     "output_type": "execute_result"
    }
   ],
   "source": [
    "c = fn(t) -> :erlang.float_to_binary(t, [decimals: 1]) <> \"°C\" end"
   ]
  },
  {
   "cell_type": "code",
   "execution_count": 16,
   "metadata": {},
   "outputs": [
    {
     "data": {
      "text/plain": [
       "\"34.6°C\""
      ]
     },
     "execution_count": 16,
     "metadata": {},
     "output_type": "execute_result"
    }
   ],
   "source": [
    "c.(34.5678)"
   ]
  },
  {
   "cell_type": "markdown",
   "metadata": {},
   "source": [
    "We can now use the function bound to `c` to format the result of `f2c`:"
   ]
  },
  {
   "cell_type": "code",
   "execution_count": 17,
   "metadata": {},
   "outputs": [
    {
     "data": {
      "text/plain": [
       "\"37.8°C\""
      ]
     },
     "execution_count": 17,
     "metadata": {},
     "output_type": "execute_result"
    }
   ],
   "source": [
    "c.(f2c.(100))"
   ]
  },
  {
   "cell_type": "markdown",
   "metadata": {},
   "source": [
    "The `|>` (*pipe* or *pipe-forward*) operator allows chaining function calls, by using the result of the previous function as the first argument of the next, like this:"
   ]
  },
  {
   "cell_type": "code",
   "execution_count": 18,
   "metadata": {},
   "outputs": [
    {
     "data": {
      "text/plain": [
       "\"37.8°C\""
      ]
     },
     "execution_count": 18,
     "metadata": {},
     "output_type": "execute_result"
    }
   ],
   "source": [
    "100 |> f2c.() |> c.()"
   ]
  }
 ],
 "metadata": {
  "kernelspec": {
   "display_name": "Elixir",
   "language": "Elixir",
   "name": "ielixir"
  },
  "language_info": {
   "codemirror_mode": "elixir",
   "file_extension": "ex",
   "mimetype": "text/x-elixir",
   "name": "elixir",
   "nbconvert_exporter": "",
   "pygments_lexer": "elixir",
   "version": "1.8.1"
  }
 },
 "nbformat": 4,
 "nbformat_minor": 2
}
