{
 "cells": [
  {
   "cell_type": "markdown",
   "metadata": {},
   "source": [
    "# Getting started: chapter 10\n",
    "\n",
    "## 10. Enumerables and streams\n",
    "\n",
    "> Elixir provides the concept of enumerables and [the Enum module](https://hexdocs.pm/elixir/Enum.html) to work with them. We have already learned two enumerables: lists and maps."
   ]
  },
  {
   "cell_type": "code",
   "execution_count": 1,
   "metadata": {},
   "outputs": [
    {
     "data": {
      "text/plain": [
       "[2, 4, 6]"
      ]
     },
     "execution_count": 1,
     "metadata": {},
     "output_type": "execute_result"
    }
   ],
   "source": [
    "Enum.map([1, 2, 3], fn x -> x * 2 end)"
   ]
  },
  {
   "cell_type": "code",
   "execution_count": 2,
   "metadata": {},
   "outputs": [
    {
     "data": {
      "text/plain": [
       "[2, 12]"
      ]
     },
     "execution_count": 2,
     "metadata": {},
     "output_type": "execute_result"
    }
   ],
   "source": [
    "Enum.map(%{1 => 2, 3 => 4}, fn {k, v} -> k * v end)"
   ]
  },
  {
   "cell_type": "markdown",
   "metadata": {},
   "source": [
    "### Ranges"
   ]
  },
  {
   "cell_type": "code",
   "execution_count": 3,
   "metadata": {},
   "outputs": [
    {
     "data": {
      "text/plain": [
       "10"
      ]
     },
     "execution_count": 3,
     "metadata": {},
     "output_type": "execute_result"
    }
   ],
   "source": [
    "Enum.reduce(1..4, 0, &+/2)"
   ]
  },
  {
   "cell_type": "code",
   "execution_count": 4,
   "metadata": {},
   "outputs": [
    {
     "data": {
      "text/plain": [
       "[2, 4, 6, 8]"
      ]
     },
     "execution_count": 4,
     "metadata": {},
     "output_type": "execute_result"
    }
   ],
   "source": [
    "Enum.map(1..4, fn x -> x * 2 end)"
   ]
  },
  {
   "cell_type": "markdown",
   "metadata": {},
   "source": [
    "Functions in the `Enum` module can work with any data type that implements the [Enumerable protocol](https://hexdocs.pm/elixir/Enumerable.html)."
   ]
  },
  {
   "cell_type": "markdown",
   "metadata": {},
   "source": [
    "### Eager vs. lazy"
   ]
  },
  {
   "cell_type": "code",
   "execution_count": 5,
   "metadata": {},
   "outputs": [
    {
     "data": {
      "text/plain": [
       "[1, 3, 5, 7, 9]"
      ]
     },
     "execution_count": 5,
     "metadata": {},
     "output_type": "execute_result"
    }
   ],
   "source": [
    "odd? = &(rem(&1, 2) != 0)\n",
    "Enum.filter(1..10, odd?)"
   ]
  },
  {
   "cell_type": "code",
   "execution_count": 6,
   "metadata": {},
   "outputs": [
    {
     "data": {
      "text/plain": [
       "7500000000"
      ]
     },
     "execution_count": 6,
     "metadata": {},
     "output_type": "execute_result"
    }
   ],
   "source": [
    "total_sum = Enum.sum(Enum.filter(Enum.map(1..100_000, &(&1 * 3)), odd?))"
   ]
  },
  {
   "cell_type": "markdown",
   "metadata": {},
   "source": [
    "The [pipe operator](https://hexdocs.pm/elixir/Kernel.html#%7C%3E/2):"
   ]
  },
  {
   "cell_type": "code",
   "execution_count": 7,
   "metadata": {},
   "outputs": [
    {
     "data": {
      "text/plain": [
       "7500000000"
      ]
     },
     "execution_count": 7,
     "metadata": {},
     "output_type": "execute_result"
    }
   ],
   "source": [
    "total_sum = 1..100_000 |> Enum.map(&(&1 * 3)) |> Enum.filter(odd?) |> Enum.sum"
   ]
  },
  {
   "cell_type": "markdown",
   "metadata": {},
   "source": [
    "### Streams"
   ]
  },
  {
   "cell_type": "code",
   "execution_count": 8,
   "metadata": {},
   "outputs": [
    {
     "data": {
      "text/plain": [
       "7500000000"
      ]
     },
     "execution_count": 8,
     "metadata": {},
     "output_type": "execute_result"
    }
   ],
   "source": [
    "1..100_000 |> Stream.map(&(&1 * 3)) |> Stream.filter(odd?) |> Enum.sum"
   ]
  },
  {
   "cell_type": "code",
   "execution_count": 9,
   "metadata": {},
   "outputs": [
    {
     "data": {
      "text/plain": [
       "#Stream<[enum: 1..100000, funs: [#Function<49.126435914/1 in Stream.map/2>]]>"
      ]
     },
     "execution_count": 9,
     "metadata": {},
     "output_type": "execute_result"
    }
   ],
   "source": [
    "1..100_000 |> Stream.map(&(&1 * 3))"
   ]
  },
  {
   "cell_type": "code",
   "execution_count": 10,
   "metadata": {},
   "outputs": [
    {
     "data": {
      "text/plain": [
       "#Function<10.126435914/2 in Stream.cycle/1>"
      ]
     },
     "execution_count": 10,
     "metadata": {},
     "output_type": "execute_result"
    }
   ],
   "source": [
    "stream = Stream.cycle(1..3)"
   ]
  },
  {
   "cell_type": "code",
   "execution_count": 11,
   "metadata": {},
   "outputs": [
    {
     "data": {
      "text/plain": [
       "[1, 2, 3, 1, 2, 3, 1, 2, 3, 1]"
      ]
     },
     "execution_count": 11,
     "metadata": {},
     "output_type": "execute_result"
    }
   ],
   "source": [
    "stream |> Enum.take(10)"
   ]
  },
  {
   "cell_type": "code",
   "execution_count": 12,
   "metadata": {},
   "outputs": [
    {
     "data": {
      "text/plain": [
       "#Function<65.126435914/2 in Stream.unfold/2>"
      ]
     },
     "execution_count": 12,
     "metadata": {},
     "output_type": "execute_result"
    }
   ],
   "source": [
    "stream = Stream.unfold(\"façade\", &String.next_codepoint/1)"
   ]
  },
  {
   "cell_type": "code",
   "execution_count": 13,
   "metadata": {},
   "outputs": [
    {
     "data": {
      "text/plain": [
       "[\"f\", \"a\", \"ç\"]"
      ]
     },
     "execution_count": 13,
     "metadata": {},
     "output_type": "execute_result"
    }
   ],
   "source": [
    "Enum.take(stream, 3)"
   ]
  },
  {
   "cell_type": "code",
   "execution_count": 14,
   "metadata": {},
   "outputs": [
    {
     "data": {
      "text/plain": [
       "%File.Stream{line_or_bytes: :line, modes: [:raw, :read_ahead, :binary], path: \"/Users/luciano/UnicodeData.txt\", raw: true}"
      ]
     },
     "execution_count": 14,
     "metadata": {},
     "output_type": "execute_result"
    }
   ],
   "source": [
    "# data source: https://www.unicode.org/Public/UCD/latest/ucd/UnicodeData.txt\n",
    "stream = File.stream!(\"/Users/luciano/UnicodeData.txt\")"
   ]
  },
  {
   "cell_type": "code",
   "execution_count": 15,
   "metadata": {},
   "outputs": [
    {
     "name": "stdout",
     "output_type": "stream",
     "text": [
      "U+0041\tA\tLATIN CAPITAL LETTER A\n"
     ]
    },
    {
     "data": {
      "text/plain": [
       ":ok"
      ]
     },
     "execution_count": 15,
     "metadata": {},
     "output_type": "execute_result"
    }
   ],
   "source": [
    "sample_line = \"0041;LATIN CAPITAL LETTER A;Lu;0;L;;;;;N;;;;0061;\"\n",
    "\n",
    "format_line = fn line ->\n",
    "  [code, name | _] = String.split(line, \";\")\n",
    "  char = <<String.to_integer(code, 16)::utf8>>\n",
    "  \"U+#{code}\\t#{char}\\t#{name}\"\n",
    "end\n",
    "\n",
    "format_line.(sample_line) |> IO.puts"
   ]
  },
  {
   "cell_type": "code",
   "execution_count": 16,
   "metadata": {},
   "outputs": [
    {
     "name": "stdout",
     "output_type": "stream",
     "text": [
      "U+0020\t \tSPACE\n",
      "U+0021\t!\tEXCLAMATION MARK\n",
      "U+0022\t\"\tQUOTATION MARK\n",
      "U+0023\t#\tNUMBER SIGN\n",
      "U+0024\t$\tDOLLAR SIGN\n",
      "U+0025\t%\tPERCENT SIGN\n",
      "U+0026\t&\tAMPERSAND\n",
      "U+0027\t'\tAPOSTROPHE\n",
      "U+0028\t(\tLEFT PARENTHESIS\n",
      "U+0029\t)\tRIGHT PARENTHESIS\n",
      "U+002A\t*\tASTERISK\n",
      "U+002B\t+\tPLUS SIGN\n",
      "U+002C\t,\tCOMMA\n",
      "U+002D\t-\tHYPHEN-MINUS\n",
      "U+002E\t.\tFULL STOP\n",
      "U+002F\t/\tSOLIDUS\n",
      "U+0030\t0\tDIGIT ZERO\n",
      "U+0031\t1\tDIGIT ONE\n",
      "U+0032\t2\tDIGIT TWO\n",
      "U+0033\t3\tDIGIT THREE\n"
     ]
    },
    {
     "data": {
      "text/plain": [
       ":ok"
      ]
     },
     "execution_count": 16,
     "metadata": {},
     "output_type": "execute_result"
    }
   ],
   "source": [
    "# data source: https://www.unicode.org/Public/UCD/latest/ucd/UnicodeData.txt\n",
    "File.stream!(\"/Users/luciano/UnicodeData.txt\")\n",
    "|> Stream.drop(32)\n",
    "|> Stream.take(20)\n",
    "|> Stream.map(format_line)\n",
    "|> Enum.each(&IO.puts(&1))"
   ]
  }
 ],
 "metadata": {
  "kernelspec": {
   "display_name": "Elixir",
   "language": "Elixir",
   "name": "ielixir"
  },
  "language_info": {
   "codemirror_mode": "elixir",
   "file_extension": "ex",
   "mimetype": "text/x-elixir",
   "name": "elixir",
   "nbconvert_exporter": "",
   "pygments_lexer": "elixir",
   "version": "1.8.1"
  }
 },
 "nbformat": 4,
 "nbformat_minor": 2
}
